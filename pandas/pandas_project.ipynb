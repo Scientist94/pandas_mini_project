{
 "cells": [
  {
   "cell_type": "code",
   "execution_count": 21,
   "metadata": {
    "collapsed": false
   },
   "outputs": [],
   "source": [
    "import quandl\n",
    "import pandas as pd\n",
    "import ssl\n",
    "import pickle\n",
    "import matplotlib.pyplot as plt\n",
    "from matplotlib import style\n",
    "\n",
    "style.use('fivethirtyeight')\n",
    "\n",
    "api_key = \"9BxGjBmVKT_CGXQ6Vk-x\"\n",
    "\n"
   ]
  },
  {
   "cell_type": "code",
   "execution_count": null,
   "metadata": {
    "collapsed": false
   },
   "outputs": [
    {
     "name": "stdout",
     "output_type": "stream",
     "text": [
      "                  AL        AK        AZ        AR        CA        CO  \\\n",
      "Date                                                                     \n",
      "1975-01-31  0.000000  0.000000  0.000000  0.000000  0.000000  0.000000   \n",
      "1975-02-28  0.588316  1.482897  1.544274  0.927908  0.325085  1.027497   \n",
      "1975-03-31  1.290141  3.000603  2.996426  1.727446  1.520570  2.072651   \n",
      "1975-04-30  2.167505  4.584117  4.111578  2.337585  3.528148  3.080431   \n",
      "1975-05-31  3.015661  6.313363  4.687991  2.868375  5.215956  3.924871   \n",
      "\n",
      "                  CT        DE         FL        GA    ...           SD  \\\n",
      "Date                                                   ...                \n",
      "1975-01-31  0.000000  0.000000   0.000000  0.000000    ...     0.000000   \n",
      "1975-02-28  2.167603  0.096771   3.941241 -0.963826    ...    -1.085751   \n",
      "1975-03-31  3.797352  0.296394   9.788003 -1.389000    ...    -2.191044   \n",
      "1975-04-30  4.696220  0.756425  16.956330 -1.198660    ...    -3.289066   \n",
      "1975-05-31  4.940457  1.581382  17.842691 -0.807255    ...    -4.283357   \n",
      "\n",
      "                  TN        TX        UT        VT        VA        WA  \\\n",
      "Date                                                                     \n",
      "1975-01-31  0.000000  0.000000  0.000000  0.000000  0.000000  0.000000   \n",
      "1975-02-28  0.131328  0.985961  1.364033  0.949577  1.052400  0.418228   \n",
      "1975-03-31  0.406752  2.778740  2.592612  1.866195  1.812108  1.045513   \n",
      "1975-04-30  0.813733  5.378374  3.569422  2.699515  2.351105  1.767015   \n",
      "1975-05-31  1.271297  6.163697  4.223316  3.433011  2.779797  2.377661   \n",
      "\n",
      "                   WV        WI        WY  \n",
      "Date                                       \n",
      "1975-01-31   0.000000  0.000000  0.000000  \n",
      "1975-02-28   2.455612  1.341451  1.434384  \n",
      "1975-03-31   5.016146  2.672532  2.954699  \n",
      "1975-04-30   7.663212  3.871226  4.534724  \n",
      "1975-05-31  10.336560  4.848738  6.070453  \n",
      "\n",
      "[5 rows x 50 columns]\n"
     ]
    }
   ],
   "source": [
    "\n",
    "def states_list():   \n",
    "    ssl._create_default_https_context = ssl._create_unverified_context\n",
    "    state_list = pd.read_html('https://simple.wikipedia.org/wiki/List_of_U.S._states')\n",
    "    return state_list[0][0][1:]\n",
    "    \n",
    "def grab_state_data():\n",
    "    \n",
    "    states = states_list()\n",
    "    main_df = pd.DataFrame()\n",
    "\n",
    "    for abbv in states:\n",
    "        query = \"FMAC/HPI_\"+str(abbv)   #the api names to query for!\n",
    "        df = quandl.get(query, authtoken=api_key)\n",
    "        df.rename(columns={'Value':str(abbv)}, inplace=True)\n",
    "        #df = df.pct_change()      ##percent change\n",
    "        ### percent change from first year\n",
    "        df[abbv] = (df[abbv] - df[abbv][0]) / df[abbv][0] * 100.0\n",
    "        \n",
    "        if main_df.empty:\n",
    "            main_df = df\n",
    "        else:\n",
    "            main_df = main_df.join(df)\n",
    "\n",
    "    print(main_df.head())\n",
    "    \n",
    "    #pickle queries\n",
    "    pickle_out = open('us_states2.pickle', 'wb')\n",
    "    pickle.dump(main_df, pickle_out)\n",
    "    pickle_out.close()\n",
    "  \n",
    "#grab_state_data()\n"
   ]
  },
  {
   "cell_type": "code",
   "execution_count": 24,
   "metadata": {
    "collapsed": true
   },
   "outputs": [],
   "source": [
    "def HPI_benchmark():\n",
    "    df = df = quandl.get(\"FMAC/HPI_USA\", authtoken=api_key)\n",
    "    df.rename(columns={'Value':\"United States\"}, inplace=True)\n",
    "    df[\"United States\"] = (df[\"United States\"] - df[\"United States\"][0]) / df[\"United States\"][0] * 100.0\n",
    "    return df"
   ]
  },
  {
   "cell_type": "code",
   "execution_count": 37,
   "metadata": {
    "collapsed": false
   },
   "outputs": [
    {
     "name": "stdout",
     "output_type": "stream",
     "text": [
      "                 open       high        low      close\n",
      "Date                                                  \n",
      "1975-12-31   0.000000   6.163697   0.000000   5.836106\n",
      "1976-12-31   6.224214  14.212953   6.224214  14.212953\n",
      "1977-12-31  14.774936  29.370158  14.774936  29.370158\n",
      "1978-12-31  30.756707  49.599720  30.756707  49.599720\n",
      "1979-12-31  51.019921  74.488959  51.019921  74.488959\n"
     ]
    }
   ],
   "source": [
    "fig = plt.figure()\n",
    "ax1 = plt.subplot2grid((1, 1), (0, 0))\n",
    "\n",
    "#pickle_in = open('us_states.pickle', 'rb')\n",
    "\n",
    "HPI_data = pd.read_pickle('us_states2.pickle')\n",
    "\n",
    "TX1yr = HPI_data['TX'].resample('A').ohlc() #resample() for changing sampling rate\n",
    "print(TX1yr.head())\n",
    "\n",
    "HPI_data['TX'].plot(ax=ax1, label='Monthly TX HPI')\n",
    "TX1yr.plot(ax=ax1, label='yearly TX HPI')\n",
    "\n",
    "plt.legend(loc=4)\n",
    "plt.show()\n",
    "\n",
    "##generate correlation table for all the columns\n",
    "# HPI_correlation = HPI_data.corr()\n",
    "# print(HPI_correlation)\n",
    "# print(HPI_correlation.describe())"
   ]
  }
 ],
 "metadata": {
  "kernelspec": {
   "display_name": "Python 2",
   "language": "python",
   "name": "python2"
  },
  "language_info": {
   "codemirror_mode": {
    "name": "ipython",
    "version": 2
   },
   "file_extension": ".py",
   "mimetype": "text/x-python",
   "name": "python",
   "nbconvert_exporter": "python",
   "pygments_lexer": "ipython2",
   "version": "2.7.11"
  }
 },
 "nbformat": 4,
 "nbformat_minor": 0
}
